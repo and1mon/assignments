{
 "cells": [
  {
   "cell_type": "markdown",
   "id": "cc048d56-62ad-4b17-a523-b6201f9687f4",
   "metadata": {},
   "source": [
    "# Assignment 1: Dynamic Time Warping\n",
    "\n",
    "---\n",
    "\n",
    "## Task 4) Isolated Word Recognition\n",
    "\n",
    "Due to the relatively large sample number (e.g. 8kHz), performing [DTW](https://en.wikipedia.org/wiki/Dynamic_time_warping) on the raw audio signal is not advised (feel free to try!).\n",
    "A better solution is to compute a set of features; here we will extract [mel-frequency cepstral coefficients](https://en.wikipedia.org/wiki/Mel-frequency_cepstrum) over windows of 25ms length, shifted by 10ms.\n",
    "Recommended implementation is [librosa](https://librosa.org/doc/main/generated/librosa.feature.mfcc.html).\n",
    "\n",
    "### Data\n",
    "\n",
    "Download Zohar Jackson's [free spoken digit dataset](https://github.com/Jakobovski/free-spoken-digit-dataset).\n",
    "There's no need to clone, feel free to use a revision, like [v1.0.10](https://github.com/Jakobovski/free-spoken-digit-dataset/archive/refs/tags/v1.0.10.tar.gz).\n",
    "File naming convention is trivial (`{digitLabel}_{speakerName}_{index}.wav`); let's restrict to two speakers, eg. `jackson` and `george`.\n",
    "\n",
    "### Dynamic Time Warping\n",
    "\n",
    "[DTW](https://en.wikipedia.org/wiki/Dynamic_time_warping) is closely related to [Levenshtein distance](https://en.wikipedia.org/wiki/Levenshtein_distance) and [Needleman-Wunsch algorithm](https://en.wikipedia.org/wiki/Needleman–Wunsch_algorithm).\n",
    "The main rationale behind DTW is that the two sequences are can be aligned but their speed and exact realization may very.\n",
    "In consequence, cost is not dependent on an edit operation but on a difference in observations.\n",
    "\n",
    "---"
   ]
  },
  {
   "cell_type": "markdown",
   "id": "638e594f-2ef3-4d92-862c-4bb6a01ff21b",
   "metadata": {},
   "source": [
    "### Preparation"
   ]
  },
  {
   "cell_type": "code",
   "execution_count": 1,
   "id": "de9b8ab0-b4d8-483f-8eab-a0112bab5e36",
   "metadata": {},
   "outputs": [],
   "source": [
    "import numpy as np\n",
    "import librosa as lr\n",
    "from typing import List, Tuple, TypedDict\n",
    "import os\n",
    "import pandas as pd"
   ]
  },
  {
   "cell_type": "code",
   "execution_count": 2,
   "id": "ffdd0b2f-5e6c-4fb4-95b0-217e75aa5b50",
   "metadata": {},
   "outputs": [],
   "source": [
    "### TODO: Read in files, compute MFCC, and organize\n",
    "### Notice: You can restrict the number to a few files for each speaker-digit\n",
    "\n",
    "class Audio(TypedDict):\n",
    "    digitLabel: int\n",
    "    speakerName: str\n",
    "    index: int\n",
    "    mfccs: List[Tuple[float]]\n",
    "\n",
    "# audios: List[Audio] = []\n",
    "\n",
    "speakers = [\"george\", \"jackson\", \"yweweler\"]\n",
    "audios: dict[str, list[list[Audio]]] = { s: [[] for _ in range(10)] for s in speakers }\n",
    "\n",
    "### YOUR CODE HERE\n",
    "\n",
    "audio_folder = \"data/free-spoken-digit-dataset-1.0.10/recordings\"\n",
    "max_files_per_digit_per_speaker = 10\n",
    "\n",
    "file_counts = {speaker: {str(digit): 0 for digit in range(10)} for speaker in speakers}\n",
    "\n",
    "for filename in os.listdir(audio_folder):\n",
    "    parts = filename.split('_')\n",
    "    if len(parts) < 3:\n",
    "        continue\n",
    "\n",
    "    digit_label, speaker_name, _ = parts\n",
    "    if speaker_name not in speakers or file_counts[speaker_name][digit_label] >= max_files_per_digit_per_speaker:\n",
    "        continue \n",
    "\n",
    "    file_path = os.path.join(audio_folder, filename)\n",
    "    audio, sr = lr.load(file_path)\n",
    "    mfccs = lr.feature.mfcc(y=audio, sr=sr)\n",
    "    digit = int(digit_label)\n",
    "    index = int(parts[2].split('.')[0])\n",
    "\n",
    "    audio_data = Audio(\n",
    "        digitLabel=digit,\n",
    "        speakerName=speaker_name,\n",
    "        index=index,\n",
    "        mfccs=mfccs.T.tolist()  # Transposing to have time in rows, then to list\n",
    "    )\n",
    "\n",
    "    audios[speaker_name][digit].append(audio_data)\n",
    "    file_counts[speaker_name][digit_label] += 1\n",
    "\n",
    "### END YOUR CODE\n"
   ]
  },
  {
   "cell_type": "markdown",
   "id": "125e920b-3296-44aa-87b9-81d73f515cc3",
   "metadata": {},
   "source": [
    "### Implement Dynamic Time Warping"
   ]
  },
  {
   "cell_type": "code",
   "execution_count": 3,
   "id": "4a7476e6-be89-41c5-81f4-dd6ab331a748",
   "metadata": {},
   "outputs": [],
   "source": [
    "def dist(x: Tuple[float], y: Tuple[float]) -> float:\n",
    "    \"\"\"\n",
    "    Compute the distance between two samples.\n",
    "\n",
    "    Arguments:\n",
    "    x: MFCCs of first sample.\n",
    "    y: MFCCs of second sample.\n",
    "\n",
    "    Returns the distance as float\n",
    "    \"\"\"\n",
    "    ### YOUR CODE HERE\n",
    "    \n",
    "    return np.linalg.norm(np.array(x) - np.array(y))\n",
    "    \n",
    "    ### END YOUR CODE\n",
    "\n",
    "\n",
    "def dtw(obs1: list, obs2: list, dist_fn) -> float:\n",
    "    \"\"\"\n",
    "    Compute the dynamic time warping score between two observations.\n",
    "    \n",
    "    Arguments:\n",
    "    obs1: List of first observations.\n",
    "    obs2: List of second observations.\n",
    "    dist_fn: Similarity function to use.\n",
    "\n",
    "    Returns the score as float.\n",
    "    \"\"\"\n",
    "    ### YOUR CODE HERE\n",
    "    \n",
    "    M, N = len(obs1), len(obs2)\n",
    "    D = np.full((M + 1, N + 1), np.inf)\n",
    "    D[0, 0] = 0\n",
    "    \n",
    "    for i in range(1, M + 1):\n",
    "        for j in range(1, N + 1):\n",
    "            cost = dist_fn(obs1[i-1], obs2[j-1])\n",
    "            D[i, j] = cost + min(D[i-1, j], D[i, j-1], D[i-1, j-1])\n",
    "    \n",
    "    return D[M, N]\n",
    "\n",
    "    ### END YOUR CODE"
   ]
  },
  {
   "cell_type": "code",
   "execution_count": 4,
   "id": "ddc5066e-1d38-46bf-9690-18e77729702e",
   "metadata": {},
   "outputs": [
    {
     "name": "stdout",
     "output_type": "stream",
     "text": [
      "3641.634275472263\n"
     ]
    }
   ],
   "source": [
    "print(dtw(np.array(audios[\"jackson\"][0][0][\"mfccs\"]), np.array(audios[\"george\"][0][0][\"mfccs\"]), dist))"
   ]
  },
  {
   "cell_type": "markdown",
   "id": "afcf1446-f4ce-492f-bab6-2f9c21bb066c",
   "metadata": {},
   "source": [
    "### Experiment 1: DTW scores\n",
    "\n",
    "For each speaker and digit, select one recording as an observation (obs1) and the others as tests (obs2). How do scores change across speakers and across digits?"
   ]
  },
  {
   "cell_type": "code",
   "execution_count": 6,
   "id": "f2661aed-5aaf-416e-8938-c2948d272e80",
   "metadata": {},
   "outputs": [],
   "source": [
    "### YOUR CODE HERE\n",
    "\n",
    "scores = {}\n",
    "    \n",
    "# Compute DTW scores\n",
    "for speaker in audios.keys():\n",
    "    for digit, data in enumerate(audios[speaker]):\n",
    "        if speaker not in scores:\n",
    "            scores[speaker] = {}\n",
    "        obs1 = np.array(data[0][\"mfccs\"])  \n",
    "        scores[speaker][digit] = []\n",
    "        for i in range(1, len(data)):\n",
    "            obs2 = np.array(data[i][\"mfccs\"]) \n",
    "            score = dtw(obs1, obs2, dist)\n",
    "            scores[speaker][digit].append(score)\n",
    "### END YOUR CODE"
   ]
  },
  {
   "cell_type": "code",
   "execution_count": 7,
   "id": "dc89998c-38b3-4034-bca2-c10487db7ced",
   "metadata": {},
   "outputs": [
    {
     "name": "stdout",
     "output_type": "stream",
     "text": [
      "Test #                    1            2            3            4  \\\n",
      "Speaker  Digit                                                       \n",
      "george   0      2507.205566  4434.533117  1762.107469  1948.385295   \n",
      "         1      1155.722280  1355.532757  1628.535864  1016.676615   \n",
      "         2      2894.173621   882.880428   832.718205   828.368785   \n",
      "         3       984.944802  1038.854091  1606.250849  1154.993542   \n",
      "         4       864.804237   764.736420   985.191694   798.930191   \n",
      "         5       895.097737  1491.168711  1438.430680   933.062941   \n",
      "         6       902.933285  1090.622019  1449.181426  1862.658140   \n",
      "         7       919.022318   793.849079   892.469081  2059.865528   \n",
      "         8       805.204371   871.625883  1232.621949  1081.448403   \n",
      "         9      1347.986424   868.043170  1088.689969  1491.206413   \n",
      "jackson  0      2118.397426  1908.059821  1838.366860  1896.170027   \n",
      "         1      1054.702155  1300.459850  1400.725365  1719.291532   \n",
      "         2       975.472959  1891.230391  2043.346718  2227.276005   \n",
      "         3      1191.219887  1334.618746  1557.331349   831.536672   \n",
      "         4      1084.803387  1980.030912  2318.244477  1440.618798   \n",
      "         5       685.311853  1128.259425  1060.506952   730.131461   \n",
      "         6      2154.388317  2506.721758  1995.862844  2330.596826   \n",
      "         7       806.754351  1356.246741  1531.028205   813.567971   \n",
      "         8       778.319881   995.556927  1062.400088   744.098073   \n",
      "         9      1037.862804  1676.639601  1911.958660  1077.849750   \n",
      "yweweler 0       920.016922  1490.666294   877.795557   904.108737   \n",
      "         1      1890.608564  1697.998736  1632.668587  1656.679479   \n",
      "         2       966.726238   606.320949   694.474750   542.988703   \n",
      "         3      1215.014785  1353.030212  2100.721328  1277.371830   \n",
      "         4       891.022939  1184.742004  1249.469291  1342.205486   \n",
      "         5       831.779120  1286.071427  1493.264186  1417.956808   \n",
      "         6      1473.628881  1405.205497  1691.061428  1185.497928   \n",
      "         7      2105.772354  1284.904622  1869.707082  1388.814632   \n",
      "         8      1078.306771  1505.238044  1759.281480  1424.660169   \n",
      "         9       629.106843  1427.766182  1159.671592   759.516340   \n",
      "\n",
      "Test #                    5            6            7            8  \\\n",
      "Speaker  Digit                                                       \n",
      "george   0      2068.179042  1836.163472  1683.856125  2962.513680   \n",
      "         1      1194.106700  1369.522020  1148.790026  1678.834911   \n",
      "         2      1065.003479  1096.072766   861.638000   856.323275   \n",
      "         3      1277.096411  1219.782630  1267.019518   822.178210   \n",
      "         4       987.430118   927.353143  1124.983831   958.062383   \n",
      "         5      1599.687050  1393.799451  1436.303671  1600.018965   \n",
      "         6      1073.890121   900.258869  1050.318684   836.380748   \n",
      "         7      1869.491285  1145.291890  1703.331897  1377.663496   \n",
      "         8      1140.204191   970.165899  1197.890975  1105.848362   \n",
      "         9      1256.472839  1417.867468  1166.809992  1127.700345   \n",
      "jackson  0      1967.905557  1909.691490  2066.596289  1998.826741   \n",
      "         1      1547.043246  2551.455763  1586.043138  1327.031869   \n",
      "         2      1014.303079  1329.946930   917.428010   896.613546   \n",
      "         3      1415.800203  1824.674595  1626.022828  1652.950752   \n",
      "         4      2222.416791  2300.090674  2517.767114  2043.880101   \n",
      "         5      1007.893230  1076.571498  1152.967488  1368.386070   \n",
      "         6      1878.156672  2447.261145  2499.243164  2645.924505   \n",
      "         7      1370.313108  1609.715272  1338.716800  1312.750099   \n",
      "         8      1100.179350   874.837347  1072.376258  1143.700678   \n",
      "         9      1700.588971  1791.285790  1652.548816  1494.633411   \n",
      "yweweler 0      1011.997151  1046.839460   946.936791  1060.838611   \n",
      "         1      1770.796111  1689.897207  1370.465583  1376.219865   \n",
      "         2       588.736003   739.643199   598.724041   678.746562   \n",
      "         3      1088.202493  1378.781666  1692.957495  1634.985078   \n",
      "         4      1031.172208  1517.634334  1206.361620  1275.923687   \n",
      "         5      1214.602559  1623.389048  1463.414784  1332.952339   \n",
      "         6       954.094348   987.887476   637.404562  1044.688069   \n",
      "         7      2103.319074  1914.159102  1632.785680  1784.446732   \n",
      "         8      1003.770128  1008.766098  1364.661728  1269.066983   \n",
      "         9       897.822710  1332.297096   996.559877  1036.173753   \n",
      "\n",
      "Test #                    9  \n",
      "Speaker  Digit               \n",
      "george   0      2707.796631  \n",
      "         1      1589.743651  \n",
      "         2       867.017109  \n",
      "         3      1142.573173  \n",
      "         4      1102.941469  \n",
      "         5      1262.150639  \n",
      "         6      1051.929951  \n",
      "         7      1000.175404  \n",
      "         8      1058.211662  \n",
      "         9      1212.974607  \n",
      "jackson  0      1195.794525  \n",
      "         1      1448.835000  \n",
      "         2       863.339568  \n",
      "         3      1316.694812  \n",
      "         4      2304.219409  \n",
      "         5       961.006006  \n",
      "         6      2223.151449  \n",
      "         7      1342.497030  \n",
      "         8      1380.435958  \n",
      "         9      1534.113349  \n",
      "yweweler 0       970.450470  \n",
      "         1      1674.195992  \n",
      "         2       504.158564  \n",
      "         3       937.831380  \n",
      "         4      1109.032103  \n",
      "         5       744.759230  \n",
      "         6      1290.579335  \n",
      "         7      1788.878475  \n",
      "         8      1431.861768  \n",
      "         9       834.811750  \n"
     ]
    }
   ],
   "source": [
    "data = []\n",
    "for speaker, digits in scores.items():\n",
    "    for digit, dtw_scores in digits.items():\n",
    "        for i, score in enumerate(dtw_scores, start=1):\n",
    "            data.append({'Speaker': speaker, 'Digit': digit, 'Test #': i, 'DTW Score': score})\n",
    "\n",
    "df = pd.DataFrame(data)\n",
    "\n",
    "pivot_df = df.pivot_table(index=['Speaker', 'Digit'], columns='Test #', values='DTW Score')\n",
    "\n",
    "# Display the pivot table\n",
    "print(pivot_df)"
   ]
  },
  {
   "cell_type": "markdown",
   "id": "98395418-830b-4db6-8193-78c66246090a",
   "metadata": {},
   "source": [
    "### Implement a DTW-based Isolated Word Recognizer"
   ]
  },
  {
   "cell_type": "code",
   "execution_count": 8,
   "id": "4a985657-6e6e-42e7-b49b-6a33083ae575",
   "metadata": {},
   "outputs": [],
   "source": [
    "### TODO: Classify recording into digit label based on reference audio recordings\n",
    "\n",
    "def recognize(obs: List[Tuple[float]], refs: List[Audio]) -> str:\n",
    "    \"\"\"\n",
    "    Classify the input based on a reference list (train recordings).\n",
    "    \n",
    "    Arguments:\n",
    "    obs: List of input observations (MFCCs).\n",
    "    refs: List of audio items (train recordings).\n",
    "    \n",
    "    Returns classname where distance of observations is minumum.\n",
    "    \"\"\"\n",
    "    ### YOUR CODE HERE\n",
    "    \n",
    "    min_distance = float('inf')\n",
    "    predicted_label = None\n",
    "    \n",
    "    for ref in refs:\n",
    "        ref_mfccs = ref['mfccs']\n",
    "        digit_label = ref['digitLabel']\n",
    "        distance = dtw(obs, ref_mfccs, dist)\n",
    "        \n",
    "        if distance < min_distance:\n",
    "            min_distance = distance\n",
    "            predicted_label = digit_label\n",
    "            \n",
    "    return predicted_label\n",
    "    \n",
    "    ### END YOUR CODE"
   ]
  },
  {
   "cell_type": "markdown",
   "id": "cef4f2c0-8cc2-4062-88ea-986619267471",
   "metadata": {},
   "source": [
    "### Experiment 2: Speaker-Dependent IWR\n",
    "\n",
    "Select training recordings from one speaker $S_i$ and disjoint test recordings from the same speaker $S_i$. Compute the Precision, Recall, and F1 metrics, and plot the confusion matrix."
   ]
  },
  {
   "cell_type": "code",
   "execution_count": 9,
   "id": "26296f18-6589-4750-ad84-84211f0f04ad",
   "metadata": {},
   "outputs": [
    {
     "name": "stdout",
     "output_type": "stream",
     "text": [
      "              precision    recall  f1-score   support\n",
      "\n",
      "           0     1.0000    1.0000    1.0000         7\n",
      "           1     1.0000    1.0000    1.0000         7\n",
      "           2     1.0000    1.0000    1.0000         7\n",
      "           3     1.0000    0.8571    0.9231         7\n",
      "           4     1.0000    1.0000    1.0000         7\n",
      "           5     0.7778    1.0000    0.8750         7\n",
      "           6     1.0000    1.0000    1.0000         7\n",
      "           7     1.0000    0.8571    0.9231         7\n",
      "           8     0.8750    1.0000    0.9333         7\n",
      "           9     1.0000    0.8571    0.9231         7\n",
      "\n",
      "    accuracy                         0.9571        70\n",
      "   macro avg     0.9653    0.9571    0.9578        70\n",
      "weighted avg     0.9653    0.9571    0.9578        70\n",
      "\n"
     ]
    },
    {
     "data": {
      "image/png": "[encoded data removed]",
      "text/plain": [
       "<Figure size 640x480 with 2 Axes>"
      ]
     },
     "metadata": {},
     "output_type": "display_data"
    }
   ],
   "source": [
    "### YOUR CODE HERE\n",
    "\n",
    "from sklearn.metrics import classification_report, confusion_matrix, ConfusionMatrixDisplay\n",
    "import matplotlib.pyplot as plt\n",
    "\n",
    "speaker = 'george'  \n",
    "train_set = []  \n",
    "test_set = [] \n",
    "\n",
    "for digit in range(10):\n",
    "    recordings = audios[speaker][digit]\n",
    "    train_set.extend(recordings[:3])  \n",
    "    for rec in recordings[3:]:  \n",
    "        test_set.append((rec['mfccs'], rec['digitLabel']))\n",
    "\n",
    "y_true = []\n",
    "y_pred = []\n",
    "\n",
    "for obs_mfccs, true_label in test_set:\n",
    "    predicted_label = recognize(obs_mfccs, train_set)\n",
    "    y_true.append(true_label)\n",
    "    y_pred.append(predicted_label)\n",
    "\n",
    "print(classification_report(y_true, y_pred, digits=4))\n",
    "\n",
    "cm = confusion_matrix(y_true, y_pred)\n",
    "disp = ConfusionMatrixDisplay(confusion_matrix=cm)\n",
    "disp.plot()\n",
    "plt.show()\n",
    "\n",
    "\n",
    "### END YOUR CODE"
   ]
  },
  {
   "cell_type": "markdown",
   "id": "f39bfaa8-1447-4e3a-b6b2-48ac96857780",
   "metadata": {},
   "source": [
    "### Experiment 3: Speaker-Independent IWR\n",
    "\n",
    "Select training recordings from one speaker $S_i$ and test recordings from another speaker $S_j$. Compute the Precision, Recall, and F1 metrics, and plot the confusion matrix."
   ]
  },
  {
   "cell_type": "code",
   "execution_count": 16,
   "id": "88904192-86a3-48fd-8050-a0f6522441d3",
   "metadata": {},
   "outputs": [
    {
     "name": "stderr",
     "output_type": "stream",
     "text": [
      "E:\\src\\anaconda3\\lib\\site-packages\\sklearn\\metrics\\_classification.py:1344: UndefinedMetricWarning: Precision and F-score are ill-defined and being set to 0.0 in labels with no predicted samples. Use `zero_division` parameter to control this behavior.\n",
      "  _warn_prf(average, modifier, msg_start, len(result))\n",
      "E:\\src\\anaconda3\\lib\\site-packages\\sklearn\\metrics\\_classification.py:1344: UndefinedMetricWarning: Precision and F-score are ill-defined and being set to 0.0 in labels with no predicted samples. Use `zero_division` parameter to control this behavior.\n",
      "  _warn_prf(average, modifier, msg_start, len(result))\n",
      "E:\\src\\anaconda3\\lib\\site-packages\\sklearn\\metrics\\_classification.py:1344: UndefinedMetricWarning: Precision and F-score are ill-defined and being set to 0.0 in labels with no predicted samples. Use `zero_division` parameter to control this behavior.\n",
      "  _warn_prf(average, modifier, msg_start, len(result))\n"
     ]
    },
    {
     "name": "stdout",
     "output_type": "stream",
     "text": [
      "              precision    recall  f1-score   support\n",
      "\n",
      "           0     0.3000    0.3000    0.3000        10\n",
      "           1     0.4348    1.0000    0.6061        10\n",
      "           2     0.0556    0.1000    0.0714        10\n",
      "           3     1.0000    0.1000    0.1818        10\n",
      "           4     0.3478    0.8000    0.4848        10\n",
      "           5     0.6667    1.0000    0.8000        10\n",
      "           6     0.0000    0.0000    0.0000        10\n",
      "           7     0.0000    0.0000    0.0000        10\n",
      "           8     0.7143    0.5000    0.5882        10\n",
      "           9     0.0000    0.0000    0.0000        10\n",
      "\n",
      "    accuracy                         0.3800       100\n",
      "   macro avg     0.3519    0.3800    0.3032       100\n",
      "weighted avg     0.3519    0.3800    0.3032       100\n",
      "\n",
      "[[ 3  0  0  0  7  0  0  0  0  0]\n",
      " [ 0 10  0  0  0  0  0  0  0  0]\n",
      " [ 7  0  1  0  2  0  0  0  0  0]\n",
      " [ 0  0  7  1  0  0  0  0  2  0]\n",
      " [ 0  2  0  0  8  0  0  0  0  0]\n",
      " [ 0  0  0  0  0 10  0  0  0  0]\n",
      " [ 0  0  0  0  4  3  0  3  0  0]\n",
      " [ 0  1  5  0  2  2  0  0  0  0]\n",
      " [ 0  0  5  0  0  0  0  0  5  0]\n",
      " [ 0 10  0  0  0  0  0  0  0  0]]\n"
     ]
    },
    {
     "data": {
      "image/png": "[encoded data removed]",
      "text/plain": [
       "<Figure size 640x480 with 2 Axes>"
      ]
     },
     "metadata": {},
     "output_type": "display_data"
    }
   ],
   "source": [
    "### YOUR CODE HERE\n",
    "\n",
    "from sklearn.metrics import classification_report, confusion_matrix, ConfusionMatrixDisplay\n",
    "import matplotlib.pyplot as plt\n",
    "import numpy as np\n",
    "\n",
    "speaker_train = 'george'\n",
    "speaker_test = 'jackson'\n",
    "\n",
    "train_set = [] \n",
    "test_set = []  \n",
    "\n",
    "for digit in range(10):\n",
    "    train_set.extend(audios[speaker_train][digit])\n",
    "\n",
    "for digit in range(10):\n",
    "    recordings = audios[speaker_test][digit]\n",
    "    for rec in recordings:\n",
    "        test_set.append((rec['mfccs'], rec['digitLabel']))\n",
    "\n",
    "# Predictions and true labels\n",
    "y_true = []\n",
    "y_pred = []\n",
    "\n",
    "for obs_mfccs, true_label in test_set:\n",
    "    predicted_label = recognize(obs_mfccs, train_set)\n",
    "    y_true.append(true_label)\n",
    "    y_pred.append(predicted_label)\n",
    "\n",
    "print(classification_report(y_true, y_pred, target_names=[str(digit) for digit in range(10)], digits=4))\n",
    "\n",
    "cm = confusion_matrix(y_true, y_pred, labels=range(10))\n",
    "print(cm)\n",
    "disp = ConfusionMatrixDisplay(confusion_matrix=cm, display_labels=range(10))\n",
    "disp.plot()\n",
    "plt.title('Confusion Matrix')\n",
    "plt.show()\n",
    "\n",
    "### END YOUR CODE"
   ]
  },
  {
   "cell_type": "code",
   "execution_count": 15,
   "id": "f02f8367-f770-4230-93fb-560deb734110",
   "metadata": {},
   "outputs": [
    {
     "name": "stdout",
     "output_type": "stream",
     "text": [
      "Unique labels in y_true: [0 1 2 3 4 5 6 7 8 9]\n",
      "Unique labels in y_pred: [0 1 2 3 4 5 7 8]\n"
     ]
    }
   ],
   "source": [
    "print(\"Unique labels in y_true:\", np.unique(y_true))\n",
    "print(\"Unique labels in y_pred:\", np.unique(y_pred))"
   ]
  },
  {
   "cell_type": "markdown",
   "id": "f6be08a1-842b-45ad-b769-61a172333e96",
   "metadata": {},
   "source": [
    "### Food for Thought\n",
    "\n",
    "- What are inherent issues of this approach?\n",
    "- How does this algorithm scale with a larger vocabulary, how can it be improved?\n",
    "- How can you extend this idea to continuous speech, ie. ?"
   ]
  }
 ],
 "metadata": {
  "kernelspec": {
   "display_name": "Python 3 (ipykernel)",
   "language": "python",
   "name": "python3"
  },
  "language_info": {
   "codemirror_mode": {
    "name": "ipython",
    "version": 3
   },
   "file_extension": ".py",
   "mimetype": "text/x-python",
   "name": "python",
   "nbconvert_exporter": "python",
   "pygments_lexer": "ipython3",
   "version": "3.9.13"
  }
 },
 "nbformat": 4,
 "nbformat_minor": 5
}
