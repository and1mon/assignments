{
 "cells": [
  {
   "cell_type": "markdown",
   "id": "e51f3ab5-22c7-4ead-9169-494e12e73c1a",
   "metadata": {},
   "source": [
    "# Assignment 1: Dynamic Programming"
   ]
  },
  {
   "cell_type": "markdown",
   "id": "2b0361ad-79a6-4492-b080-ee8bcf8ca4de",
   "metadata": {},
   "source": [
    "---\n",
    "\n",
    "## Task 1) Edit Distances\n",
    "\n",
    "Implement the [Hamming](https://en.wikipedia.org/wiki/Hamming_distance) and [Levenshtein](https://en.wikipedia.org/wiki/Levenshtein_distance) (edit) distances and compute them for the for the following word pairs.\n",
    "It may help to compute them by hand first.\n",
    "\n",
    "<img src = \"./assets/97090.jpg\" width=\"33%\" /> <img src = \"./assets/97222.jpg\" width=\"33%\" /> <img src = \"./assets/97669.jpg\" width=\"33%\" />\n",
    "\n",
    "Aside from computing the distance (which is a scalar), do the backtrace and compute the edit transcript (and thus alignment).\n",
    "\n",
    "---"
   ]
  },
  {
   "cell_type": "code",
   "execution_count": 1,
   "id": "b947e856-5284-4cf2-922f-c44268c365ac",
   "metadata": {},
   "outputs": [],
   "source": [
    "WORD_PAIRS = [\n",
    "    (\"GCGTATGAGGCTAACGC\", \"GCTATGCGGCTATACGC\"),\n",
    "    (\"kühler schrank\", \"schüler krank\"),\n",
    "    (\"the longest\", \"longest day\"),\n",
    "    (\"nicht ausgeloggt\", \"licht ausgenockt\"),\n",
    "    (\"gurken schaben\", \"schurkengaben\")\n",
    "]"
   ]
  },
  {
   "cell_type": "code",
   "execution_count": 2,
   "id": "a7f504ef-3822-44fe-986f-88b4ca791017",
   "metadata": {},
   "outputs": [],
   "source": [
    "def hamming(s1: str, s2: str) -> int:\n",
    "    \"\"\"\n",
    "    Compute the hamming distance between two strings.\n",
    "\n",
    "    Arguments:\n",
    "    s1: First string of word pair.\n",
    "    s2: Second string of word pair.\n",
    "\n",
    "    Returns the distance as int.\n",
    "    \"\"\"\n",
    "    # Hint: Think about how you can deal with unequal word lengths.\n",
    "    \n",
    "    ### YOUR CODE HERE\n",
    "\n",
    "    dist = 0\n",
    "    longer, shorter = (s1, s2) if len(s1) > len(s2) else (s2, s1)\n",
    "    \n",
    "    for i in range(0, len(shorter)):\n",
    "        if longer[i] != shorter[i]:\n",
    "            dist+=1\n",
    "            \n",
    "    if len(longer) != len(shorter):\n",
    "        dist += len(longer) - len(shorter)\n",
    "            \n",
    "    return dist\n",
    "    \n",
    "    ### END YOUR CODE"
   ]
  },
  {
   "cell_type": "code",
   "execution_count": 3,
   "id": "11a59e5d-2bcc-40d6-b3b8-c24d886bc9a0",
   "metadata": {},
   "outputs": [
    {
     "name": "stdout",
     "output_type": "stream",
     "text": [
      "hamming('GCGTATGAGGCTAACGC', 'GCTATGCGGCTATACGC') = 10\n",
      "hamming('kühler schrank', 'schüler krank') = 13\n",
      "hamming('the longest', 'longest day') = 11\n",
      "hamming('nicht ausgeloggt', 'licht ausgenockt') = 4\n",
      "hamming('gurken schaben', 'schurkengaben') = 14\n"
     ]
    }
   ],
   "source": [
    "for wordpair in WORD_PAIRS:\n",
    "    dist = hamming(s1=wordpair[0], s2=wordpair[1])\n",
    "    print(\"hamming('{}', '{}') = {}\".format(\n",
    "        wordpair[0], wordpair[1], dist\n",
    "    ))\n",
    "\n",
    "### EXPECTED\n",
    "# hamming('GCGTATGAGGCTAACGC', 'GCTATGCGGCTATACGC') = 10\n",
    "# hamming('kühler schrank', 'schüler krank') = 13\n",
    "# hamming('the longest', 'longest day') = 11\n",
    "# hamming('nicht ausgeloggt', 'licht ausgenockt') = 4\n",
    "# hamming('gurken schaben', 'schurkengaben') = 14"
   ]
  },
  {
   "cell_type": "code",
   "execution_count": 4,
   "id": "9791159e-0511-44d1-9e39-481942835d34",
   "metadata": {},
   "outputs": [],
   "source": [
    "def levenshtein(s1: str, s2: str, cost={'m': 0, 's': 1, 'i': 1, 'd': 1}) -> (int, str):\n",
    "    \"\"\"\n",
    "    Compute the levenshtein (edit) distance between two strings.\n",
    "\n",
    "    Arguments:\n",
    "    s1: First string of word pair.\n",
    "    s2: Second string of word pair.\n",
    "\n",
    "    Returns the distance as int and edit transcript as string.\n",
    "    \"\"\"\n",
    "    # Hint: The probably most intuitive approach is bottom-up.\n",
    "    \n",
    "    ### YOUR CODE HERE\n",
    "    \n",
    "    cols = len(s1) + 1\n",
    "    rows = len(s2) + 1\n",
    "    transcript_matrix = [[\"\" for _ in range(cols)] for _ in range(rows)]\n",
    "    \n",
    "#    if len(s1) == 0:\n",
    "#        return len(s2)\n",
    "#    \n",
    "#    if len(s2) == 0:\n",
    "#        return len(s1) \n",
    "    \n",
    "    dist_matrix = [[0 for _ in range(cols)] for _ in range(rows)]\n",
    "    \n",
    "    for i in range(1, rows):\n",
    "        dist_matrix[i][0] = i\n",
    "        transcript_matrix[i][0] = transcript_matrix[i-1][0] + 'I'\n",
    "        \n",
    "    for j in range(1, cols):\n",
    "        dist_matrix[0][j] = j\n",
    "        transcript_matrix[0][j] = transcript_matrix[0][j-1] + 'D'\n",
    "        \n",
    "    for col in range(1, cols):\n",
    "        for row in range(1, rows):\n",
    "            if s1[col - 1] == s2[row - 1]:\n",
    "                cost = 0\n",
    "                operation = 'M'\n",
    "                \n",
    "            else:\n",
    "                cost = 1\n",
    "                operation = \"R\"\n",
    "                \n",
    "            replace = dist_matrix[row-1][col-1] + cost\n",
    "            insert = dist_matrix[row][col-1] + 1\n",
    "            delete = dist_matrix[row-1][col] + 1\n",
    "                \n",
    "            min_cost = min(replace,insert,delete)\n",
    "                \n",
    "            dist_matrix[row][col]= min_cost\n",
    "                \n",
    "            if min_cost == delete:\n",
    "                transcript_matrix[row][col] = transcript_matrix[row-1][col] + 'I'\n",
    "            elif min_cost == insert:\n",
    "                transcript_matrix[row][col] = transcript_matrix[row][col-1] + 'D'\n",
    "            else:\n",
    "                transcript_matrix[row][col] = transcript_matrix[row-1][col-1] + operation\n",
    "\n",
    "    return dist_matrix[-1][-1], transcript_matrix[-1][-1]\n",
    "    ### END YOUR CODE"
   ]
  },
  {
   "cell_type": "code",
   "execution_count": 5,
   "id": "b794add6-0ee0-4a64-a79f-4b0e68d3a7e5",
   "metadata": {},
   "outputs": [
    {
     "name": "stdout",
     "output_type": "stream",
     "text": [
      "levenshtein('GCGTATGAGGCTAACGC', 'GCTATGCGGCTATACGC') = 3 (MMDMMMMRMMMMMIMMMM)\n",
      "levenshtein('kühler schrank', 'schüler krank') = 6 (RRMIMMMMRDDMMMM)\n",
      "levenshtein('the longest', 'longest day') = 8 (DDDDMMMMMMMIIII)\n",
      "levenshtein('nicht ausgeloggt', 'licht ausgenockt') = 4 (RMMMMMMMMMMRMRRM)\n",
      "levenshtein('gurken schaben', 'schurkengaben') = 7 (RIIMMMMMRDDDMMMM)\n"
     ]
    }
   ],
   "source": [
    "for wordpair in WORD_PAIRS:\n",
    "    dist, transcript = levenshtein(s1=wordpair[0], s2=wordpair[1])\n",
    "    print(\"levenshtein('{}', '{}') = {} ({})\".format(\n",
    "        wordpair[0], wordpair[1], dist, transcript\n",
    "    ))\n",
    "\n",
    "### EXPECTED\n",
    "# levenshtein('GCGTATGAGGCTAACGC', 'GCTATGCGGCTATACGC') = 3 (mmdmmmmsmmmmmimmmm)\n",
    "# levenshtein('kühler schrank', 'schüler krank') = 6 (ssmimmmmsddmmmm)\n",
    "# levenshtein('the longest', 'longest day') = 8 (ddddmmmmmmmiiii)\n",
    "# levenshtein('nicht ausgeloggt', 'licht ausgenockt') = 4 (smmmmmmmmmmsmssm)\n",
    "# levenshtein('gurken schaben', 'schurkengaben') = 7 (siimmmmmsdddmmmm)"
   ]
  },
  {
   "cell_type": "markdown",
   "id": "84084e8a-f48d-45a6-8f8d-199981dc0aa7",
   "metadata": {},
   "source": [
    "---\n",
    "\n",
    "## Task 2) Basic Spelling Correction using Edit Distance\n",
    "\n",
    "For spelling correction, we will use prior knowledge, to put _some_ learning into our system.\n",
    "\n",
    "The underlying idea is the _Noisy Channel Model_, that is: The user _intends_ to write a word `w`, but through some noise in the process, happens to type the word `x`.\n",
    "\n",
    "The correct word $\\hat{w}$ is that word, that is a valid candidate and has the highest probability:\n",
    "\n",
    "$$\n",
    "\\begin{eqnarray}\n",
    "\\DeclareMathOperator*{\\argmax}{argmax}\n",
    "\\hat{w} & = & \\argmax_{w \\in V} P(w | x) \\\\\n",
    "        & = & \\argmax_{w \\in V} \\frac{P(x|w) P(w)}{P(x)} \\\\\n",
    "        & = & \\argmax_{w \\in V} P(x|w) P(w)\n",
    "\\end{eqnarray}\n",
    "$$\n",
    "\n",
    "1. The candidates $V$ can be obtained from a _vocabulary_.\n",
    "2. The probability $P(w)$ of a word $w$ can be _learned (counted) from data_.\n",
    "3. The probability $P(x|w)$ is more complicated... It could be learned from data, but we could also use a _heuristic_ that relates to the edit distance, e.g. rank by distance.\n",
    "\n",
    "You may use [Peter Norvig's count_1w.txt](http://norvig.com/ngrams/) file, [local mirror](res/count_1w.tar.bz2).\n",
    "Note that it may help to restrict to the first 10k words to get started.\n",
    "\n",
    "---"
   ]
  },
  {
   "cell_type": "code",
   "execution_count": 6,
   "id": "a7190fb5-93c5-456b-835b-32a73d0f3fde",
   "metadata": {},
   "outputs": [],
   "source": [
    "EXAMPLES = [\n",
    "    \"pirates\",    # in-voc\n",
    "    \"pirutes\",    # pirates?\n",
    "    \"continoisly\",  # continuosly?\n",
    "]"
   ]
  },
  {
   "cell_type": "code",
   "execution_count": 7,
   "id": "ce0ead32-59de-42c4-b488-a56001931fbc",
   "metadata": {},
   "outputs": [
    {
     "name": "stdout",
     "output_type": "stream",
     "text": [
      "[('the', 23135851162), ('of', 13151942776), ('and', 12997637966)]\n"
     ]
    }
   ],
   "source": [
    "### TODO: Prepare the vocabulary\n",
    "\n",
    "### YOUR CODE HERE\n",
    "\n",
    "def load_word_frequencies(file_path: str, limit=10000) -> dict:\n",
    "    \"\"\"\n",
    "    Load word frequencies from a file into a dictionary.\n",
    "    \"\"\"\n",
    "    word_frequencies = {}\n",
    "    with open(file_path, 'r') as file:\n",
    "        for i, line in enumerate(file):\n",
    "            if i >= limit:  \n",
    "                break\n",
    "            word, freq = line.split()\n",
    "            word_frequencies[word] = int(freq)\n",
    "    return word_frequencies\n",
    "\n",
    "word_freqs = load_word_frequencies(\"data/count_1w.txt\")\n",
    "\n",
    "print([(word, freq) for word, freq in list(word_freqs.items())[:3]])\n",
    "\n",
    "\n",
    "### END YOUR CODE"
   ]
  },
  {
   "cell_type": "code",
   "execution_count": 8,
   "id": "f88150c8-3d00-483e-8682-1f6720d2a28a",
   "metadata": {},
   "outputs": [],
   "source": [
    "import math\n",
    "\n",
    "def probability_x_given_w(x, w, lambda_param=0.5):\n",
    "    \"\"\"Calculate the probability P(x|w) using edit distance with exponential decay.\"\"\"\n",
    "    distance = levenshtein(x, w)[0]\n",
    "    return math.exp(-lambda_param * distance)\n",
    "\n",
    "def suggest(w: str, dist_fn, max_cand=5) -> list:\n",
    "    candidates = word_freqs.keys()\n",
    "    # Ensure dist_fn returns a tuple where the first item is the distance\n",
    "    distances = [(candidate, dist_fn(w, candidate)[0]) for candidate in candidates]\n",
    "    distances.sort(key=lambda x: x[1])\n",
    "    \n",
    "    scored_candidates = []\n",
    "    for rank, (candidate, distance) in enumerate(distances, start=1):\n",
    "        frequency = word_freqs.get(candidate, 0)\n",
    "        score = (1 / rank) * frequency\n",
    "        scored_candidates.append((candidate, distance, score))\n",
    "    \n",
    "    scored_candidates.sort(key=lambda x: (x[1], -x[2]))\n",
    "\n",
    "    return scored_candidates[:max_cand]\n",
    "    ### END YOUR CODE"
   ]
  },
  {
   "cell_type": "code",
   "execution_count": 9,
   "id": "5f5490ca-969c-4a93-aaf0-8cdb3433ff6e",
   "metadata": {},
   "outputs": [
    {
     "name": "stdout",
     "output_type": "stream",
     "text": [
      "pirates [('pirates', 0, 6531487.0), ('rates', 2, 68544769.0), ('plates', 2, 4736699.666666666)]\n",
      "pirutes [('pirates', 1, 6531487.0), ('minutes', 2, 48121104.5), ('viruses', 2, 2928857.6666666665)]\n",
      "continoisly [('continuously', 2, 5610397.0), ('continuity', 3, 3022781.0), ('continually', 3, 1759573.6666666665)]\n"
     ]
    }
   ],
   "source": [
    "# How does your suggest function behave with levenshtein distance?\n",
    "\n",
    "for word in EXAMPLES:\n",
    "    suggestions = suggest(w=word, dist_fn=levenshtein, max_cand=3)\n",
    "    print(\"{} {}\".format(word, suggestions))\n",
    "\n",
    "### EXPECTED\n",
    "### Notice: your scores may vary!\n",
    "# pirates [('pirates', 0, -11.408058827802126)]\n",
    "# pirutes [('pirates', 1, -11.408058827802126), ('minutes', 2, -8.717825438953103), ('viruses', 2, -11.111468702571859)]\n",
    "# continoisly [('continously', 1, -15.735337826575178), ('continuously', 2, -11.560071979871001), ('continuosly', 2, -17.009283000138204)]"
   ]
  },
  {
   "cell_type": "markdown",
   "id": "34aa2e00-a1dd-46e5-90c0-2f3eea3cb031",
   "metadata": {},
   "source": [
    "### Food for Thought\n",
    "\n",
    "- How would you modify the implementation so that it works fast for large lexica (eg. the full file above)?\n",
    "- How would you modify the implementation so that it works \"while typing\" instead of at the end of a word?\n",
    "- How do you handle unknown/new words?"
   ]
  },
  {
   "cell_type": "markdown",
   "id": "7941cf76-6abe-41ad-a1b7-c144c1c12009",
   "metadata": {},
   "source": [
    "Large Lexica:\n",
    "- Prefilter (e.g. word-length, first couple of letters)\n",
    "- Caching\n",
    "- Efficient data structures\n",
    "\n",
    "While typing:\n",
    "- only look at partial words \n",
    "\n",
    "New words:\n",
    "- embeddings?"
   ]
  },
  {
   "cell_type": "markdown",
   "id": "a183c2b3-7cee-420e-bb08-5748dbfed5dc",
   "metadata": {},
   "source": [
    "---\n",
    "\n",
    "## Task 3) Needleman-Wunsch: Keyboard-aware Auto-Correct\n",
    "\n",
    "In the parts 1 and 2 above, we applied uniform cost to all substitutions.\n",
    "This does not really make sense if you look at a keyboard: the QWERTY layout will favor certain substitutions (eg. _a_ and _s_), while others are fairly unlikely (eg. _a_ and _k_).\n",
    "\n",
    "Implement the [Needleman-Wunsch algorithm](https://en.wikipedia.org/wiki/Needleman–Wunsch_algorithm) which is very similar to the [Levenshtein distance](https://en.wikipedia.org/wiki/Levenshtein_distance), however it doesn't _minimize the cost_ but _maximizes the similarity_.\n",
    "For a good measure of similarity, implement a metric that computes a meaningful weight for a given character substitution.\n",
    "\n",
    "---"
   ]
  },
  {
   "cell_type": "code",
   "execution_count": 10,
   "id": "23709626-6af8-41ae-b713-f0d8c7b117e2",
   "metadata": {},
   "outputs": [],
   "source": [
    "import numpy as np\n",
    "\n",
    "def keyboardsim(s1: str, s2: str) -> float:\n",
    "    ### YOUR CODE HERE\n",
    "    \n",
    "    keyboard_layout = {\n",
    "        # Top row\n",
    "        'q': (0, 0.0), 'w': (0, 1.0), 'e': (0, 2.0), 'r': (0, 3.0), 't': (0, 4.0),\n",
    "        'z': (0, 5.0), 'u': (0, 6.0), 'i': (0, 7.0), 'o': (0, 8.0), 'p': (0, 9.0),\n",
    "        # Middle row\n",
    "        'a': (1, 0.5), 's': (1, 1.5), 'd': (1, 2.5), 'f': (1, 3.5), 'g': (1, 4.5),\n",
    "        'h': (1, 5.5), 'j': (1, 6.5), 'k': (1, 7.5), 'l': (1, 8.5),\n",
    "        # Bottom row\n",
    "        'y': (2, 1.0), 'x': (2, 2.0), 'c': (2, 3.0), 'v': (2, 4.0), 'b': (2, 5.0),\n",
    "        'n': (2, 6.0), 'm': (2, 7.0),\n",
    "    }\n",
    "\n",
    "    pos1 = keyboard_layout.get(s1.lower())\n",
    "    pos2 = keyboard_layout.get(s2.lower())\n",
    "\n",
    "    if not pos1 or not pos2:\n",
    "        return 0.0\n",
    "\n",
    "    # Eucild. distance\n",
    "    dist = ((pos1[0] - pos2[0]) ** 2 + (pos1[1] - pos2[1]) ** 2) ** 0.5\n",
    "\n",
    "    # lower distance -> higher score\n",
    "    similarity = 1 / (1 + dist)\n",
    "    return similarity\n",
    "    \n",
    "    ### END YOUR CODE\n",
    "\n",
    "\n",
    "def nw(s1: str, s2: str, d: float, sim_fn) -> float:\n",
    "    \"\"\"\n",
    "    Apply needleman-wunsch algorithm.\n",
    "    \n",
    "    Arguments:\n",
    "    s1: First string of word pair.\n",
    "    s2: Second string of word pair.\n",
    "    d: Gap penalty score.\n",
    "    sim_fn: Similarity function to use.\n",
    "\n",
    "    Returns the score as float.\n",
    "    \"\"\"\n",
    "    ### YOUR CODE HERE\n",
    "    \n",
    "    D = np.zeros((len(s1) + 1, len(s2) + 1), dtype=float) \n",
    "    for i in range(1, len(s2) + 1):\n",
    "        D[0, i] = i * d\n",
    "    for i in range(1, len(s1) + 1):\n",
    "        D[i, 0] = i * d\n",
    "\n",
    "    for i in range(1, len(s1) + 1):\n",
    "        for j in range(1, len(s2) + 1):\n",
    "            cs = D[i-1, j-1] + sim_fn(s1[i-1], s2[j-1])\n",
    "            cd = D[i-1, j] + d\n",
    "            ci = D[i, j-1] + d\n",
    "            D[i, j] = max(cs, cd, ci)\n",
    "\n",
    "    return D[len(s1), len(s2)]\n",
    "\n",
    "    ### END YOUR CODE\n",
    "\n",
    "\n",
    "def nw_based_dist(s1: str, s2: str) -> (int, str):\n",
    "    \"\"\"\n",
    "    Compute the needleman-wunsch distance between two strings.\n",
    "    \n",
    "    Arguments:\n",
    "    s1: First string of word pair.\n",
    "    s2: Second string of word pair.\n",
    "    \n",
    "    Returns the distance as int and <unsupported> string.\n",
    "    \"\"\"\n",
    "    ### YOUR CODE HERE\n",
    "    \n",
    "    score = nw(s1, s2, -1, keyboardsim)\n",
    "    dist = round(len(s1) - score)\n",
    "\n",
    "    return dist, \"<unsupported>\"\n",
    "    # Hint: return dist, \"<unsupported>\"\n",
    "    \n",
    "    ### END YOUR CODE"
   ]
  },
  {
   "cell_type": "code",
   "execution_count": 11,
   "id": "2f510005-f578-4afa-99a3-9a389fd86069",
   "metadata": {},
   "outputs": [
    {
     "name": "stdout",
     "output_type": "stream",
     "text": [
      "pirates [('pirates', 0, 6531487.0), ('phrases', 1, 3298311.0), ('updated', 2, 36501588.666666664)]\n",
      "pirutes [('pirates', 1, 6531487.0), ('pictures', 2, 107498959.0), ('limited', 2, 35384989.666666664)]\n",
      "continoisly [('continuously', 2, 5610397.0), ('continually', 2, 2639360.5), ('continuity', 3, 2015187.3333333333)]\n"
     ]
    }
   ],
   "source": [
    "# How does your suggest function behave with nw and a keyboard-aware similarity?\n",
    "\n",
    "for word in EXAMPLES:\n",
    "    suggestions = suggest(w=word, dist_fn=nw_based_dist, max_cand=3)\n",
    "    print(\"{} {}\".format(word, suggestions))"
   ]
  },
  {
   "cell_type": "code",
   "execution_count": 12,
   "id": "25c99119-4ec5-4d25-8402-e66be7f33040",
   "metadata": {},
   "outputs": [
    {
     "name": "stdout",
     "output_type": "stream",
     "text": [
      "5.156613028826232\n"
     ]
    }
   ],
   "source": [
    "test = nw(\"pirate\", \"pxrate\", -1, keyboardsim)\n",
    "print(test)"
   ]
  },
  {
   "cell_type": "markdown",
   "id": "bf63b759-ba2d-4ad1-9011-f0067e968688",
   "metadata": {},
   "source": [
    "### Food for Thought\n",
    "\n",
    "- What could be better heuristics for similarity resp. cost of substitution than the one above?\n",
    "- What about capitalization, punctiation and special characters?\n",
    "- What about swipe-to-type?"
   ]
  }
 ],
 "metadata": {
  "kernelspec": {
   "display_name": "Python 3 (ipykernel)",
   "language": "python",
   "name": "python3"
  },
  "language_info": {
   "codemirror_mode": {
    "name": "ipython",
    "version": 3
   },
   "file_extension": ".py",
   "mimetype": "text/x-python",
   "name": "python",
   "nbconvert_exporter": "python",
   "pygments_lexer": "ipython3",
   "version": "3.9.13"
  }
 },
 "nbformat": 4,
 "nbformat_minor": 5
}
