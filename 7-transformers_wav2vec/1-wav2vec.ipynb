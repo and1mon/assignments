{
 "cells": [
  {
   "cell_type": "markdown",
   "id": "d2183f50-3d39-4832-af72-42791571713d",
   "metadata": {},
   "source": [
    "# Assignment 7: Transformers"
   ]
  },
  {
   "cell_type": "markdown",
   "id": "996891f9-c12d-47bb-93f5-2f25cc60709b",
   "metadata": {},
   "source": [
    "To get you warmed up and familiar with some of the libararies, we start out easy with a BERT tutorial from J. Alammar. \n",
    "The tutorial builds a simple sentiment analysis model based on pretrained BERT models with the [HuggingFace](https://huggingface.co/) library.\n",
    "It will get you familiarized with the libary and make the next exercise a bit easier. \n",
    "The [Visual Guide](https://jalammar.github.io/a-visual-guide-to-using-bert-for-the-first-time/) has nice graphics and visualizations and will increase your general understanding of transformers and especially the BERT model even more. \n",
    "\n",
    "---\n",
    "\n",
    "## Task 1) Wav2vec 2.0 for keyword recognition\n",
    "\n",
    "After the warm-up with BERT, this exercise is a bit more advanced and you will be mostly on your own.\n",
    "The task in this exercise is to build a keyword recognition system based on wav2vec 2.0. \n",
    "There are a couple of options you will have to think about and decide which implementation path you want to follow.\n",
    "\n",
    "You can use the Huggingface [Audio Classification Tutorial](https://github.com/huggingface/notebooks/blob/main/examples/audio_classification.ipynb) as starting point.\n",
    "There are a couple of options, that will lead to differnt performance on this problem. They vary in complexity as well as performance.\n",
    "You should be able to reason the design and implementation choices you made.\n",
    "Choose one of the options that suits you best or the one that you think might yield the best performance.\n",
    "1. What model will you use? ```BASE vs. LARGE``` and what pretrained weights ```ASR vs BASE```, ```XLSR53 vs ENGLISH```?\n",
    "1. HuggingFace or ```torchaudio.pipelines```?\n",
    "1. Use a simple neural classification head?\n",
    "3. Extract features and use them with some downstream classifier (e.g. SVM, Naive Bayes etc.)\n",
    "    1. What pooling strategy will you use (mean, statistical, etc)?\n",
    "    2. Compare downstream classifiers (e.g., SVM vs MLP cs CNN).\n",
    "    3. Should you use a dimeninsionality reduction method?\n",
    "1. Or use CTC loss and a greedy decoder? (closed vocab!)\n",
    "\n",
    "## Dataset\n",
    "\n",
    "For this exercise please use the [speech-commands-dataset](https://ai.googleblog.com/2017/08/launching-speech-commands-dataset.html) from google to train and evaluate your keyword recognition systems.\n",
    "The data can also be obtained using the \n",
    "[HuggingFace api](https://huggingface.co/datasets/speech_commands) or you can use [torchaudio](https://pytorch.org/audio/stable/_modules/torchaudio/datasets/speechcommands.html).\n",
    "\n",
    "*In this Jupyter Notebook, we will provide the steps to solve this task and give hints via functions & comments. However, code modifications (e.g., function naming, arguments) and implementation of additional helper functions & classes are allowed. The code aims to help you get started.*\n",
    "\n",
    "---"
   ]
  },
  {
   "cell_type": "markdown",
   "id": "bf666267-390d-402a-aae9-e3588b51c262",
   "metadata": {},
   "source": [
    "### Prepare the Data"
   ]
  },
  {
   "cell_type": "code",
   "execution_count": null,
   "id": "886ef25a",
   "metadata": {},
   "outputs": [],
   "source": [
    "### YOUR CODE HERE\n",
    "\n",
    "    \n",
    "\n",
    "### END YOUR CODE"
   ]
  },
  {
   "cell_type": "markdown",
   "id": "6ffb8bb6",
   "metadata": {},
   "source": [
    "### Train the wav2vec model"
   ]
  },
  {
   "cell_type": "code",
   "execution_count": null,
   "id": "6fdc7977",
   "metadata": {},
   "outputs": [],
   "source": [
    "### YOUR CODE HERE\n",
    "\n",
    "    \n",
    "\n",
    "### END YOUR CODE"
   ]
  },
  {
   "cell_type": "markdown",
   "id": "562cbb3c",
   "metadata": {},
   "source": [
    "### Evaluate your model"
   ]
  },
  {
   "cell_type": "code",
   "execution_count": null,
   "id": "08854933",
   "metadata": {},
   "outputs": [],
   "source": [
    "### YOUR CODE HERE\n",
    "\n",
    "    \n",
    "\n",
    "### END YOUR CODE"
   ]
  }
 ],
 "metadata": {
  "kernelspec": {
   "display_name": "Python 3 (ipykernel)",
   "language": "python",
   "name": "python3"
  },
  "language_info": {
   "codemirror_mode": {
    "name": "ipython",
    "version": 3
   },
   "file_extension": ".py",
   "mimetype": "text/x-python",
   "name": "python",
   "nbconvert_exporter": "python",
   "pygments_lexer": "ipython3",
   "version": "3.10.14"
  }
 },
 "nbformat": 4,
 "nbformat_minor": 5
}
